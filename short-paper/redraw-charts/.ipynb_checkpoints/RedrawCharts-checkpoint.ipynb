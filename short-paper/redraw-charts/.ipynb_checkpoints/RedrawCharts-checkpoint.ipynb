{
 "cells": [
  {
   "cell_type": "code",
   "execution_count": 39,
   "metadata": {
    "collapsed": true
   },
   "outputs": [],
   "source": [
    "import seaborn as sns\n",
    "import matplotlib.pyplot as plt\n",
    "import pandas\n",
    "%matplotlib inline\n",
    "import numpy as np\n",
    "import time\n",
    "from scipy import stats\n",
    "#pandas.options.display.max_colwidth = 1000\n",
    "sns.set_context('poster')\n",
    "#plt.style.use('ggplot')"
   ]
  },
  {
   "cell_type": "code",
   "execution_count": 40,
   "metadata": {
    "collapsed": false
   },
   "outputs": [],
   "source": [
    "df = pandas.read_csv('data/story-sharing.csv')"
   ]
  },
  {
   "cell_type": "code",
   "execution_count": 41,
   "metadata": {
    "collapsed": false
   },
   "outputs": [
    {
     "data": {
      "text/html": [
       "<div>\n",
       "<table border=\"1\" class=\"dataframe\">\n",
       "  <thead>\n",
       "    <tr style=\"text-align: right;\">\n",
       "      <th></th>\n",
       "      <th>follow</th>\n",
       "      <th>about</th>\n",
       "      <th>tweets</th>\n",
       "    </tr>\n",
       "  </thead>\n",
       "  <tbody>\n",
       "    <tr>\n",
       "      <th>0</th>\n",
       "      <td>Clinton</td>\n",
       "      <td>Trump</td>\n",
       "      <td>3858</td>\n",
       "    </tr>\n",
       "    <tr>\n",
       "      <th>1</th>\n",
       "      <td>Clinton</td>\n",
       "      <td>Cruz</td>\n",
       "      <td>1073</td>\n",
       "    </tr>\n",
       "    <tr>\n",
       "      <th>2</th>\n",
       "      <td>Clinton</td>\n",
       "      <td>Clinton</td>\n",
       "      <td>839</td>\n",
       "    </tr>\n",
       "    <tr>\n",
       "      <th>3</th>\n",
       "      <td>Clinton</td>\n",
       "      <td>Sanders</td>\n",
       "      <td>565</td>\n",
       "    </tr>\n",
       "    <tr>\n",
       "      <th>4</th>\n",
       "      <td>Trump</td>\n",
       "      <td>Trump</td>\n",
       "      <td>5135</td>\n",
       "    </tr>\n",
       "    <tr>\n",
       "      <th>5</th>\n",
       "      <td>Trump</td>\n",
       "      <td>Cruz</td>\n",
       "      <td>1317</td>\n",
       "    </tr>\n",
       "    <tr>\n",
       "      <th>6</th>\n",
       "      <td>Trump</td>\n",
       "      <td>Clinton</td>\n",
       "      <td>691</td>\n",
       "    </tr>\n",
       "    <tr>\n",
       "      <th>7</th>\n",
       "      <td>Trump</td>\n",
       "      <td>Sanders</td>\n",
       "      <td>305</td>\n",
       "    </tr>\n",
       "    <tr>\n",
       "      <th>8</th>\n",
       "      <td>Sanders</td>\n",
       "      <td>Trump</td>\n",
       "      <td>1661</td>\n",
       "    </tr>\n",
       "    <tr>\n",
       "      <th>9</th>\n",
       "      <td>Sanders</td>\n",
       "      <td>Clinton</td>\n",
       "      <td>849</td>\n",
       "    </tr>\n",
       "    <tr>\n",
       "      <th>10</th>\n",
       "      <td>Sanders</td>\n",
       "      <td>Sanders</td>\n",
       "      <td>800</td>\n",
       "    </tr>\n",
       "    <tr>\n",
       "      <th>11</th>\n",
       "      <td>Sanders</td>\n",
       "      <td>Cruz</td>\n",
       "      <td>366</td>\n",
       "    </tr>\n",
       "    <tr>\n",
       "      <th>12</th>\n",
       "      <td>Cruz</td>\n",
       "      <td>Trump</td>\n",
       "      <td>1747</td>\n",
       "    </tr>\n",
       "    <tr>\n",
       "      <th>13</th>\n",
       "      <td>Cruz</td>\n",
       "      <td>Cruz</td>\n",
       "      <td>597</td>\n",
       "    </tr>\n",
       "    <tr>\n",
       "      <th>14</th>\n",
       "      <td>Cruz</td>\n",
       "      <td>Clinton</td>\n",
       "      <td>304</td>\n",
       "    </tr>\n",
       "    <tr>\n",
       "      <th>15</th>\n",
       "      <td>Cruz</td>\n",
       "      <td>Sanders</td>\n",
       "      <td>111</td>\n",
       "    </tr>\n",
       "  </tbody>\n",
       "</table>\n",
       "</div>"
      ],
      "text/plain": [
       "     follow    about  tweets\n",
       "0   Clinton    Trump    3858\n",
       "1   Clinton     Cruz    1073\n",
       "2   Clinton  Clinton     839\n",
       "3   Clinton  Sanders     565\n",
       "4     Trump    Trump    5135\n",
       "5     Trump     Cruz    1317\n",
       "6     Trump  Clinton     691\n",
       "7     Trump  Sanders     305\n",
       "8   Sanders    Trump    1661\n",
       "9   Sanders  Clinton     849\n",
       "10  Sanders  Sanders     800\n",
       "11  Sanders     Cruz     366\n",
       "12     Cruz    Trump    1747\n",
       "13     Cruz     Cruz     597\n",
       "14     Cruz  Clinton     304\n",
       "15     Cruz  Sanders     111"
      ]
     },
     "execution_count": 41,
     "metadata": {},
     "output_type": "execute_result"
    }
   ],
   "source": [
    "df.head(100)"
   ]
  },
  {
   "cell_type": "code",
   "execution_count": 63,
   "metadata": {
    "collapsed": false
   },
   "outputs": [
    {
     "data": {
      "text/plain": [
       "<matplotlib.text.Text at 0x11837d450>"
      ]
     },
     "execution_count": 63,
     "metadata": {},
     "output_type": "execute_result"
    },
    {
     "data": {
      "image/png": "[encoded data removed]",
      "text/plain": [
       "<matplotlib.figure.Figure at 0x1182627d0>"
      ]
     },
     "metadata": {},
     "output_type": "display_data"
    }
   ],
   "source": [
    "fig, axes = plt.subplots(nrows=1, ncols=4, sharey=True)\n",
    "df[df.follow=='Trump'][['about','tweets']].plot.bar(ax=axes[0], legend=False, title=\"Trump\", color=['blue']).set_xticklabels(df[df.follow=='Trump'].about) \n",
    "df[df.follow=='Clinton'][['about','tweets']].plot.bar(ax=axes[1], legend=False, title='Clinton', color=['blue']).set_xticklabels(df[df.follow=='Clinton'].about)\n",
    "df[df.follow=='Sanders'][['about','tweets']].plot.bar(ax=axes[2], legend=False, title='Sanders',color=['blue']).set_xticklabels(df[df.follow=='Sanders'].about)\n",
    "df[df.follow=='Cruz'][['about','tweets']].plot.bar(ax=axes[3], legend=False, title='Cruz',color=['blue']).set_xticklabels(df[df.follow=='Cruz'].about)\n",
    "fig.suptitle('Stories shared by followers of...', fontsize=24) \n",
    "fig.text(0.03,0.5, \"Shares on Twitter\", ha=\"center\", va=\"center\", rotation=90, fontsize=24)\n",
    "fig.text(0.5,-.05, \"Most mentioned candidate in story\", ha=\"center\", va=\"center\", rotation=0, fontsize=24)\n",
    " "
   ]
  },
  {
   "cell_type": "code",
   "execution_count": null,
   "metadata": {
    "collapsed": true
   },
   "outputs": [],
   "source": []
  },
  {
   "cell_type": "code",
   "execution_count": null,
   "metadata": {
    "collapsed": true
   },
   "outputs": [],
   "source": []
  }
 ],
 "metadata": {
  "kernelspec": {
   "display_name": "Python 2",
   "language": "python",
   "name": "python2"
  },
  "language_info": {
   "codemirror_mode": {
    "name": "ipython",
    "version": 2
   },
   "file_extension": ".py",
   "mimetype": "text/x-python",
   "name": "python",
   "nbconvert_exporter": "python",
   "pygments_lexer": "ipython2",
   "version": "2.7.13"
  }
 },
 "nbformat": 4,
 "nbformat_minor": 2
}
